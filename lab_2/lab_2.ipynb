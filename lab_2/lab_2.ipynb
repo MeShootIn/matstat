{
 "cells": [
  {
   "cell_type": "code",
   "execution_count": 1,
   "metadata": {
    "collapsed": false,
    "trusted": true
   },
   "outputs": [
   ],
   "source": [
    "import numpy as np\n",
    "import pandas as pd\n",
    "from IPython.display import display"
   ]
  },
  {
   "cell_type": "code",
   "execution_count": 2,
   "metadata": {
    "collapsed": false,
    "trusted": true
   },
   "outputs": [
   ],
   "source": [
    "def laplace_gen(n):\n",
    "    return np.random.laplace(0, 1 / np.sqrt(2), n)\n",
    "\n",
    "def poisson_gen(n):\n",
    "    return np.random.poisson(10, n)\n",
    "\n",
    "def uniform_gen(n):\n",
    "    return np.random.uniform(-np.sqrt(3), np.sqrt(3), n)\n",
    "\n",
    "def E(z):\n",
    "    return np.mean(z)\n",
    "\n",
    "def D(z):\n",
    "    return np.var(z)\n",
    "\n",
    "def z_R(X):\n",
    "    return (np.amin(X) + np.amax(X)) / 2\n",
    "\n",
    "def z_Q(X):\n",
    "    return (np.quantile(X, 1 / 4) + np.quantile(X, 3 / 4)) / 2\n",
    "\n",
    "def z_tr(X):\n",
    "    n = X.size\n",
    "    r = n // 4\n",
    "    sum = 0\n",
    "    \n",
    "    for i in range(r + 1, n - r + 1):\n",
    "        sum += X[i]\n",
    "        \n",
    "    return sum / (n - 2 * r)\n",
    "\n",
    "distr_gen = {\n",
    "    'standard_normal' : np.random.standard_normal,\n",
    "    'standard_cauchy' : np.random.standard_cauchy,\n",
    "    'laplace' : laplace_gen,\n",
    "    'poisson' : poisson_gen,\n",
    "    'uniform' : uniform_gen\n",
    "}\n",
    "\n",
    "power = [10, 100, 1000]\n",
    "np.random.seed(1)\n",
    "\n",
    "def discard(x, n):\n",
    "    return ('{0:.' + str(n) + 'f}').format(x).rstrip('0').rstrip('.')"
   ]
  },
  {
   "cell_type": "code",
   "execution_count": 3,
   "metadata": {
    "collapsed": false,
    "trusted": true
   },
   "outputs": [
    {
     "data": {
      "text/html": [
       "<div>\n",
       "<style scoped>\n",
       "    .dataframe tbody tr th:only-of-type {\n",
       "        vertical-align: middle;\n",
       "    }\n",
       "\n",
       "    .dataframe tbody tr th {\n",
       "        vertical-align: top;\n",
       "    }\n",
       "\n",
       "    .dataframe thead th {\n",
       "        text-align: right;\n",
       "    }\n",
       "</style>\n",
       "<table border=\"1\" class=\"dataframe\">\n",
       "  <thead>\n",
       "    <tr style=\"text-align: right;\">\n",
       "      <th>n=10</th>\n",
       "      <th>mean</th>\n",
       "      <th>med</th>\n",
       "      <th>z_R</th>\n",
       "      <th>z_Q</th>\n",
       "      <th>z_tr</th>\n",
       "    </tr>\n",
       "  </thead>\n",
       "  <tbody>\n",
       "    <tr>\n",
       "      <th>E(z)</th>\n",
       "      <td>0.01</td>\n",
       "      <td>0.01</td>\n",
       "      <td>0.02</td>\n",
       "      <td>0</td>\n",
       "      <td>0.28</td>\n",
       "    </tr>\n",
       "    <tr>\n",
       "      <th>D(z)</th>\n",
       "      <td>0.097848</td>\n",
       "      <td>0.12874</td>\n",
       "      <td>0.190887</td>\n",
       "      <td>0.11015</td>\n",
       "      <td>0.109265</td>\n",
       "    </tr>\n",
       "  </tbody>\n",
       "</table>\n",
       "</div>"
      ],
      "text/plain": [
       " n=10      mean      med       z_R      z_Q      z_tr\n",
       "E(z)       0.01     0.01      0.02        0      0.28\n",
       "D(z)   0.097848  0.12874  0.190887  0.11015  0.109265"
      ]
     },
     "execution_count": 3,
     "metadata": {
     },
     "output_type": "execute_result"
    }
   ],
   "source": [
    "for distr_name in distr_gen.keys():\n",
    "    for n in power:\n",
    "        stats = {\n",
    "            'mean' : [],\n",
    "            'med' : [],\n",
    "            'z_R' : [],\n",
    "            'z_Q' : [],\n",
    "            'z_tr' : []\n",
    "        }\n",
    "        \n",
    "        for i in range(1000):\n",
    "            X = np.sort(distr_gen[distr_name](n))\n",
    "            \n",
    "            stats['mean'].append(np.mean(X))\n",
    "            stats['med'].append(np.median(X))\n",
    "            stats['z_R'].append(z_R(X))\n",
    "            stats['z_Q'].append(z_Q(X))\n",
    "            stats['z_tr'].append(z_tr(X))\n",
    "        \n",
    "        table = pd.DataFrame(\n",
    "            np.array(\n",
    "                [\n",
    "                    [discard(E(z), 2) for z in stats.values()],\n",
    "                    [discard(D(z), 6) for z in stats.values()]\n",
    "                ],\n",
    "            )\n",
    "        )\n",
    "        table.index = ['E(z)', 'D(z)']\n",
    "        table.columns = stats.keys()\n",
    "        table.columns.name = str(' n=') + str(n)\n",
    "        \n",
    "        display(table)"
   ]
  },
  {
   "cell_type": "code",
   "execution_count": 0,
   "metadata": {
    "collapsed": false
   },
   "outputs": [
   ],
   "source": [
   ]
  }
 ],
 "metadata": {
  "kernelspec": {
   "display_name": "Python 3 (system-wide)",
   "language": "python",
   "metadata": {
    "cocalc": {
     "description": "Python 3 programming language",
     "priority": 100,
     "url": "https://www.python.org/"
    }
   },
   "name": "python3"
  },
  "language_info": {
   "codemirror_mode": {
    "name": "ipython",
    "version": 3
   },
   "file_extension": ".py",
   "mimetype": "text/x-python",
   "name": "python",
   "nbconvert_exporter": "python",
   "pygments_lexer": "ipython3",
   "version": "3.6.9"
  }
 },
 "nbformat": 4,
 "nbformat_minor": 4
}