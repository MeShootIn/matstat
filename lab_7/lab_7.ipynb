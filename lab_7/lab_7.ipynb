{
 "cells": [
  {
   "cell_type": "code",
   "execution_count": 1,
   "metadata": {
    "collapsed": false,
    "trusted": true
   },
   "outputs": [
   ],
   "source": [
    "import scipy.stats as st\n",
    "import numpy as np\n",
    "import pandas as pd\n",
    "from IPython.display import display"
   ]
  },
  {
   "cell_type": "code",
   "execution_count": 2,
   "metadata": {
    "collapsed": false,
    "trusted": true
   },
   "outputs": [
   ],
   "source": [
    "def make_research(f, N, l, r):\n",
    "    rs = f.rvs(N)\n",
    "\n",
    "    m = rs.mean()\n",
    "    sigma = rs.std()\n",
    "    print('m = ' + discard(m, 4) + '\\nsigma =  ' + discard(sigma, 4))\n",
    "    k = int(1.72 * np.cbrt(N))\n",
    "\n",
    "    table = pd.DataFrame([], columns = ['delta', 'n', 'p_i', 'temp_v'])\n",
    "    table.columns.name = 'i'\n",
    "\n",
    "    if k % 2 == 1:\n",
    "        k -= 1\n",
    "\n",
    "    left = l\n",
    "    right = r\n",
    "    step = (right - left) / (k - 2)\n",
    "\n",
    "    delta = [left + i * step for i in range(0, k - 1)]\n",
    "\n",
    "    n = np.zeros(k)\n",
    "    for r in rs:\n",
    "        last = True\n",
    "        for i in range(0, len(delta)):\n",
    "            if r < delta[i]:\n",
    "                n[i] += 1\n",
    "                last = False\n",
    "                break\n",
    "        if last:\n",
    "            n[k - 1] += 1\n",
    "\n",
    "    p = []\n",
    "    model = st.norm(loc = m, scale = sigma)\n",
    "\n",
    "    for i in range(0, k - 1):\n",
    "        if i == 0:\n",
    "            p.append(model.cdf(delta[0]))\n",
    "        else:\n",
    "            p.append(model.cdf(delta[i]) - model.cdf(delta[i - 1]))\n",
    "\n",
    "    p.append(1 - model.cdf(delta[k - 2]))\n",
    "    p = np.array(p)\n",
    "\n",
    "    hi_square = 0\n",
    "    for i in range(k):\n",
    "        arr = []\n",
    "\n",
    "        if i == k - 1:\n",
    "            arr.append('inf')\n",
    "        else:\n",
    "            arr.append(delta[i])\n",
    "\n",
    "        temp_v = ((n[i] - N * p[i]) ** 2) / (N * p[i])\n",
    "\n",
    "        arr.append(n[i])\n",
    "        arr.append(float(discard(p[i], 4)))\n",
    "        arr.append(float(discard(temp_v, 4)))\n",
    "\n",
    "        table.loc[i + 1] = arr\n",
    "        hi_square += temp_v\n",
    "\n",
    "    print('X_2 = ' + discard(hi_square, 4))\n",
    "    display(table)\n",
    "\n",
    "def discard(a, n):\n",
    "    return ('{0:.' + str(n) + 'f}').format(a).rstrip('0').rstrip('.')\n",
    "\n",
    "np.random.seed(0)"
   ]
  },
  {
   "cell_type": "code",
   "execution_count": 3,
   "metadata": {
    "collapsed": false,
    "trusted": true
   },
   "outputs": [
    {
     "name": "stdout",
     "output_type": "stream",
     "text": [
      "N(x, 0, 1)\n",
      "m = 0.0598\n",
      "sigma =  1.0079\n",
      "X_2 = 5.5277\n"
     ]
    },
    {
     "data": {
      "text/html": [
       "<div>\n",
       "<style scoped>\n",
       "    .dataframe tbody tr th:only-of-type {\n",
       "        vertical-align: middle;\n",
       "    }\n",
       "\n",
       "    .dataframe tbody tr th {\n",
       "        vertical-align: top;\n",
       "    }\n",
       "\n",
       "    .dataframe thead th {\n",
       "        text-align: right;\n",
       "    }\n",
       "</style>\n",
       "<table border=\"1\" class=\"dataframe\">\n",
       "  <thead>\n",
       "    <tr style=\"text-align: right;\">\n",
       "      <th>i</th>\n",
       "      <th>delta</th>\n",
       "      <th>n</th>\n",
       "      <th>p_i</th>\n",
       "      <th>temp_v</th>\n",
       "    </tr>\n",
       "  </thead>\n",
       "  <tbody>\n",
       "    <tr>\n",
       "      <th>1</th>\n",
       "      <td>-1</td>\n",
       "      <td>15.0</td>\n",
       "      <td>0.1465</td>\n",
       "      <td>0.0083</td>\n",
       "    </tr>\n",
       "    <tr>\n",
       "      <th>2</th>\n",
       "      <td>-0.5</td>\n",
       "      <td>14.0</td>\n",
       "      <td>0.1428</td>\n",
       "      <td>0.0055</td>\n",
       "    </tr>\n",
       "    <tr>\n",
       "      <th>3</th>\n",
       "      <td>0</td>\n",
       "      <td>16.0</td>\n",
       "      <td>0.1870</td>\n",
       "      <td>0.3909</td>\n",
       "    </tr>\n",
       "    <tr>\n",
       "      <th>4</th>\n",
       "      <td>0.5</td>\n",
       "      <td>27.0</td>\n",
       "      <td>0.1925</td>\n",
       "      <td>3.1189</td>\n",
       "    </tr>\n",
       "    <tr>\n",
       "      <th>5</th>\n",
       "      <td>1</td>\n",
       "      <td>10.0</td>\n",
       "      <td>0.1557</td>\n",
       "      <td>1.9923</td>\n",
       "    </tr>\n",
       "    <tr>\n",
       "      <th>6</th>\n",
       "      <td>inf</td>\n",
       "      <td>18.0</td>\n",
       "      <td>0.1755</td>\n",
       "      <td>0.0118</td>\n",
       "    </tr>\n",
       "  </tbody>\n",
       "</table>\n",
       "</div>"
      ],
      "text/plain": [
       "i delta     n     p_i  temp_v\n",
       "1    -1  15.0  0.1465  0.0083\n",
       "2  -0.5  14.0  0.1428  0.0055\n",
       "3     0  16.0  0.1870  0.3909\n",
       "4   0.5  27.0  0.1925  3.1189\n",
       "5     1  10.0  0.1557  1.9923\n",
       "6   inf  18.0  0.1755  0.0118"
      ]
     },
     "execution_count": 3,
     "metadata": {
     },
     "output_type": "execute_result"
    },
    {
     "name": "stdout",
     "output_type": "stream",
     "text": [
      "U(x, -2, 2)\n",
      "m = -0.0309\n",
      "sigma =  0.8724\n",
      "X_2 = 0.3203\n"
     ]
    },
    {
     "data": {
      "text/html": [
       "<div>\n",
       "<style scoped>\n",
       "    .dataframe tbody tr th:only-of-type {\n",
       "        vertical-align: middle;\n",
       "    }\n",
       "\n",
       "    .dataframe tbody tr th {\n",
       "        vertical-align: top;\n",
       "    }\n",
       "\n",
       "    .dataframe thead th {\n",
       "        text-align: right;\n",
       "    }\n",
       "</style>\n",
       "<table border=\"1\" class=\"dataframe\">\n",
       "  <thead>\n",
       "    <tr style=\"text-align: right;\">\n",
       "      <th>i</th>\n",
       "      <th>delta</th>\n",
       "      <th>n</th>\n",
       "      <th>p_i</th>\n",
       "      <th>temp_v</th>\n",
       "    </tr>\n",
       "  </thead>\n",
       "  <tbody>\n",
       "    <tr>\n",
       "      <th>1</th>\n",
       "      <td>-2</td>\n",
       "      <td>0.0</td>\n",
       "      <td>0.0120</td>\n",
       "      <td>0.2399</td>\n",
       "    </tr>\n",
       "    <tr>\n",
       "      <th>2</th>\n",
       "      <td>1</td>\n",
       "      <td>18.0</td>\n",
       "      <td>0.8693</td>\n",
       "      <td>0.0216</td>\n",
       "    </tr>\n",
       "    <tr>\n",
       "      <th>3</th>\n",
       "      <td>4</td>\n",
       "      <td>2.0</td>\n",
       "      <td>0.1187</td>\n",
       "      <td>0.0587</td>\n",
       "    </tr>\n",
       "    <tr>\n",
       "      <th>4</th>\n",
       "      <td>inf</td>\n",
       "      <td>0.0</td>\n",
       "      <td>0.0000</td>\n",
       "      <td>0.0000</td>\n",
       "    </tr>\n",
       "  </tbody>\n",
       "</table>\n",
       "</div>"
      ],
      "text/plain": [
       "i delta     n     p_i  temp_v\n",
       "1    -2   0.0  0.0120  0.2399\n",
       "2     1  18.0  0.8693  0.0216\n",
       "3     4   2.0  0.1187  0.0587\n",
       "4   inf   0.0  0.0000  0.0000"
      ]
     },
     "execution_count": 3,
     "metadata": {
     },
     "output_type": "execute_result"
    }
   ],
   "source": [
    "print('N(x, 0, 1)')\n",
    "make_research(st.norm(loc = 0, scale = 1), 100, -1, 1)\n",
    "\n",
    "print('U(x, -2, 2)')\n",
    "make_research(st.uniform(loc = -2, scale = 4), 20, -2, 4)"
   ]
  },
  {
   "cell_type": "code",
   "execution_count": 0,
   "metadata": {
    "collapsed": false
   },
   "outputs": [
   ],
   "source": [
   ]
  }
 ],
 "metadata": {
  "kernelspec": {
   "display_name": "Python 3 (system-wide)",
   "language": "python",
   "metadata": {
    "cocalc": {
     "description": "Python 3 programming language",
     "priority": 100,
     "url": "https://www.python.org/"
    }
   },
   "name": "python3"
  },
  "language_info": {
   "codemirror_mode": {
    "name": "ipython",
    "version": 3
   },
   "file_extension": ".py",
   "mimetype": "text/x-python",
   "name": "python",
   "nbconvert_exporter": "python",
   "pygments_lexer": "ipython3",
   "version": "3.6.9"
  }
 },
 "nbformat": 4,
 "nbformat_minor": 4
}