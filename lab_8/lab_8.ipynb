{
 "cells": [
  {
   "cell_type": "code",
   "execution_count": 1,
   "metadata": {
    "collapsed": false,
    "trusted": true
   },
   "outputs": [
   ],
   "source": [
    "import scipy.stats as st\n",
    "import numpy as np\n",
    "import pandas as pd\n",
    "from IPython.display import display"
   ]
  },
  {
   "cell_type": "code",
   "execution_count": 2,
   "metadata": {
    "collapsed": false,
    "trusted": true
   },
   "outputs": [
   ],
   "source": [
    "gamma = 0.95\n",
    "norm = st.norm(loc=0, scale=1)\n",
    "\n",
    "def conf_int_m(x, alpha):\n",
    "    x_mean = x.mean()\n",
    "    s = x.std()\n",
    "    n = x.size\n",
    "    t_a = st.t(df=(n - 1)).ppf(1 - alpha/2)\n",
    "    temp = s*t_a/np.sqrt(n - 1)\n",
    "    return [x_mean - temp, x_mean + temp]\n",
    "\n",
    "def conf_int_sigma(x, alpha):\n",
    "    s = x.std()\n",
    "    n = x.size\n",
    "    hi_1_a = st.chi2(df=(n - 1)).ppf(1 - alpha/2)\n",
    "    hi_a = st.chi2(df=(n - 1)).ppf(alpha / 2)\n",
    "    return [s*np.sqrt(n)/np.sqrt(hi_1_a), s*np.sqrt(n)/np.sqrt(hi_a)]\n",
    "\n",
    "def conf_ass_m(x, alpha):\n",
    "    u = norm.ppf(1 - alpha/2)\n",
    "    x_mean = x.mean()\n",
    "    s = x.std()\n",
    "    n = x.size\n",
    "    temp = s*u/np.sqrt(n)\n",
    "    return [x_mean - temp, x_mean + temp]\n",
    "\n",
    "def conf_ass_sigma(x, alpha):\n",
    "    s = x.std()\n",
    "    n = x.size\n",
    "    e = st.moment(x, 4)/(s**4) - 3\n",
    "    U = norm.ppf(1 - alpha/2)*np.sqrt((e + 2)/n)\n",
    "    return [s/np.sqrt(1 + U), s/np.sqrt(1 - U)]\n",
    "\n",
    "def discard(a, n):\n",
    "    return ('{0:.' + str(n) + 'f}').format(a).rstrip('0').rstrip('.')\n",
    "\n",
    "power = [20, 100]\n",
    "np.random.seed(0)"
   ]
  },
  {
   "cell_type": "code",
   "execution_count": 3,
   "metadata": {
    "collapsed": false,
    "trusted": true
   },
   "outputs": [
    {
     "data": {
      "text/html": [
       "<div>\n",
       "<style scoped>\n",
       "    .dataframe tbody tr th:only-of-type {\n",
       "        vertical-align: middle;\n",
       "    }\n",
       "\n",
       "    .dataframe tbody tr th {\n",
       "        vertical-align: top;\n",
       "    }\n",
       "\n",
       "    .dataframe thead th {\n",
       "        text-align: right;\n",
       "    }\n",
       "</style>\n",
       "<table border=\"1\" class=\"dataframe\">\n",
       "  <thead>\n",
       "    <tr style=\"text-align: right;\">\n",
       "      <th>n=20</th>\n",
       "      <th>m</th>\n",
       "      <th>sigma</th>\n",
       "    </tr>\n",
       "  </thead>\n",
       "  <tbody>\n",
       "    <tr>\n",
       "      <th>normal_dist</th>\n",
       "      <td>[0.1611, 0.9776]</td>\n",
       "      <td>[0.6634, 1.274]</td>\n",
       "    </tr>\n",
       "    <tr>\n",
       "      <th>random_dist</th>\n",
       "      <td>[0.1967, 0.9419]</td>\n",
       "      <td>[0.6909, 1.2196]</td>\n",
       "    </tr>\n",
       "  </tbody>\n",
       "</table>\n",
       "</div>"
      ],
      "text/plain": [
       "n=20                        m             sigma\n",
       "normal_dist  [0.1611, 0.9776]   [0.6634, 1.274]\n",
       "random_dist  [0.1967, 0.9419]  [0.6909, 1.2196]"
      ]
     },
     "execution_count": 3,
     "metadata": {
     },
     "output_type": "execute_result"
    },
    {
     "data": {
      "text/html": [
       "<div>\n",
       "<style scoped>\n",
       "    .dataframe tbody tr th:only-of-type {\n",
       "        vertical-align: middle;\n",
       "    }\n",
       "\n",
       "    .dataframe tbody tr th {\n",
       "        vertical-align: top;\n",
       "    }\n",
       "\n",
       "    .dataframe thead th {\n",
       "        text-align: right;\n",
       "    }\n",
       "</style>\n",
       "<table border=\"1\" class=\"dataframe\">\n",
       "  <thead>\n",
       "    <tr style=\"text-align: right;\">\n",
       "      <th>n=100</th>\n",
       "      <th>m</th>\n",
       "      <th>sigma</th>\n",
       "    </tr>\n",
       "  </thead>\n",
       "  <tbody>\n",
       "    <tr>\n",
       "      <th>normal_dist</th>\n",
       "      <td>[-0.1658, 0.2564]</td>\n",
       "      <td>[0.9341, 1.2359]</td>\n",
       "    </tr>\n",
       "    <tr>\n",
       "      <th>random_dist</th>\n",
       "      <td>[-0.1622, 0.2527]</td>\n",
       "      <td>[0.9558, 1.2035]</td>\n",
       "    </tr>\n",
       "  </tbody>\n",
       "</table>\n",
       "</div>"
      ],
      "text/plain": [
       "n=100                        m             sigma\n",
       "normal_dist  [-0.1658, 0.2564]  [0.9341, 1.2359]\n",
       "random_dist  [-0.1622, 0.2527]  [0.9558, 1.2035]"
      ]
     },
     "execution_count": 3,
     "metadata": {
     },
     "output_type": "execute_result"
    }
   ],
   "source": [
    "for n in power:\n",
    "    table = pd.DataFrame([], columns = ['m', 'sigma'])\n",
    "    table.columns.name = 'n=' + str(n)\n",
    "    x_v = norm.rvs(n)\n",
    "    \n",
    "    normal_m = [discard(m, 4) for m in conf_int_m(x_v, 1 - gamma)]\n",
    "    normal_sigma = [discard(sigma, 4) for sigma in conf_int_sigma(x_v, 1 - gamma)]\n",
    "    random_m = [discard(m, 4) for m in conf_ass_m(x_v, 1 - gamma)]\n",
    "    random_sigma = [discard(sigma, 4) for sigma in conf_ass_sigma(x_v, 1 - gamma)]\n",
    "    \n",
    "    table.loc['normal_dist'] = [normal_m, normal_sigma]\n",
    "    table.loc['random_dist'] = [random_m, random_sigma]\n",
    "    \n",
    "    display(table)"
   ]
  },
  {
   "cell_type": "code",
   "execution_count": 0,
   "metadata": {
    "collapsed": false
   },
   "outputs": [
   ],
   "source": [
   ]
  }
 ],
 "metadata": {
  "kernelspec": {
   "display_name": "Python 3 (system-wide)",
   "language": "python",
   "metadata": {
    "cocalc": {
     "description": "Python 3 programming language",
     "priority": 100,
     "url": "https://www.python.org/"
    }
   },
   "name": "python3"
  },
  "language_info": {
   "codemirror_mode": {
    "name": "ipython",
    "version": 3
   },
   "file_extension": ".py",
   "mimetype": "text/x-python",
   "name": "python",
   "nbconvert_exporter": "python",
   "pygments_lexer": "ipython3",
   "version": "3.6.9"
  }
 },
 "nbformat": 4,
 "nbformat_minor": 4
}